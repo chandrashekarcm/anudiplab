{
 "cells": [
  {
   "cell_type": "code",
   "execution_count": 11,
   "id": "6097bee8-5896-49cf-a5f4-4457fed5c1e6",
   "metadata": {},
   "outputs": [
    {
     "name": "stdin",
     "output_type": "stream",
     "text": [
      "enter a number: 8\n"
     ]
    },
    {
     "name": "stdout",
     "output_type": "stream",
     "text": [
      "The number is (reult),\n"
     ]
    }
   ],
   "source": [
    "num=int(input(\"enter a number:\"))\n",
    "result = \"Even\" if num %2 == 0 else \"Odd\"\n",
    "print(\"The number is (reult),\")"
   ]
  },
  {
   "cell_type": "code",
   "execution_count": 13,
   "id": "6790288a-9b90-4aa4-99aa-ee7a3f129330",
   "metadata": {},
   "outputs": [
    {
     "name": "stdin",
     "output_type": "stream",
     "text": [
      "enter the first number: 123\n",
      "enter the second number: 234\n"
     ]
    },
    {
     "name": "stdout",
     "output_type": "stream",
     "text": [
      "before swapping: num1 = 123, num2 = 234\n",
      "after swapping: num1 = 234, num2 = 123\n"
     ]
    }
   ],
   "source": [
    "num1 = int(input(\"enter the first number:\"))\n",
    "num2 = int(input(\"enter the second number:\"))\n",
    "\n",
    "print(f\"before swapping: num1 = {num1}, num2 = {num2}\")\n",
    "num1, num2 = num2, num1\n",
    "print(f\"after swapping: num1 = {num1}, num2 = {num2}\")"
   ]
  },
  {
   "cell_type": "code",
   "execution_count": 14,
   "id": "418f4923-4ff3-4a48-9e41-33d6b35fdc7b",
   "metadata": {},
   "outputs": [
    {
     "name": "stdout",
     "output_type": "stream",
     "text": [
      "simple interest = Rs.50.0\n"
     ]
    }
   ],
   "source": [
    "P = 200\n",
    "R = 5\n",
    "T = 5\n",
    "\n",
    "SI =(P * R * T)/100\n",
    "\n",
    "print(F\"simple interest = Rs.{SI}\")"
   ]
  },
  {
   "cell_type": "code",
   "execution_count": 16,
   "id": "9d03e954-6dae-4d67-b6ba-d5350642db2c",
   "metadata": {},
   "outputs": [
    {
     "name": "stdin",
     "output_type": "stream",
     "text": [
      "enter distance in kilometers: 123456\n"
     ]
    },
    {
     "name": "stdout",
     "output_type": "stream",
     "text": [
      "123456.0 kilometers is equal to 76711.978176miles.\n"
     ]
    }
   ],
   "source": [
    "kilometers = float(input(\"enter distance in kilometers:\"))\n",
    "\n",
    "conversion_factor = 0.621371\n",
    "\n",
    "miles = kilometers * conversion_factor\n",
    "\n",
    "print(f\"{kilometers} kilometers is equal to {miles}miles.\")"
   ]
  },
  {
   "cell_type": "code",
   "execution_count": null,
   "id": "4fddd1c5-dd4d-4ca5-9f05-72115e2602e6",
   "metadata": {},
   "outputs": [],
   "source": []
  }
 ],
 "metadata": {
  "kernelspec": {
   "display_name": "Python 3 (ipykernel)",
   "language": "python",
   "name": "python3"
  },
  "language_info": {
   "codemirror_mode": {
    "name": "ipython",
    "version": 3
   },
   "file_extension": ".py",
   "mimetype": "text/x-python",
   "name": "python",
   "nbconvert_exporter": "python",
   "pygments_lexer": "ipython3",
   "version": "3.12.4"
  }
 },
 "nbformat": 4,
 "nbformat_minor": 5
}
