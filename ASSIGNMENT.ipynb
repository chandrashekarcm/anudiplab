{
 "cells": [
  {
   "cell_type": "code",
   "execution_count": 2,
   "id": "bd9bfaad-9e6e-4aff-b050-df3dd94a3a4e",
   "metadata": {},
   "outputs": [
    {
     "name": "stdin",
     "output_type": "stream",
     "text": [
      "Enter a number: 7\n"
     ]
    },
    {
     "name": "stdout",
     "output_type": "stream",
     "text": [
      "7is Odd.\n"
     ]
    }
   ],
   "source": [
    "num=int(input(\"Enter a number:\"))\n",
    "if num% 2==0:\n",
    "    print(f\"{num}is Even.\")\n",
    "else:\n",
    "    print(f\"{num}is Odd.\")"
   ]
  },
  {
   "cell_type": "code",
   "execution_count": 8,
   "id": "7559f446-e825-4e36-9c11-8d067b00f746",
   "metadata": {},
   "outputs": [
    {
     "name": "stdin",
     "output_type": "stream",
     "text": [
      "enter a number: 19\n"
     ]
    },
    {
     "name": "stdout",
     "output_type": "stream",
     "text": [
      "19 is a prime number\n",
      "19 is a prime number\n",
      "19 is a prime number\n"
     ]
    }
   ],
   "source": [
    "num=int(input(\"enter a number:\"))\n",
    "if num<=1:\n",
    "    print(num,\"is not a prime number\")\n",
    "elif num ==2:\n",
    "    print(num,\"is a prime number\")\n",
    "else:\n",
    "    for i in range(2,int(num**0.5)+1):\n",
    "        if num % i ==0:\n",
    "            print(num,\"is not a prime number\")\n",
    "            break\n",
    "        else:\n",
    "            print(num,\"is a prime number\")"
   ]
  },
  {
   "cell_type": "code",
   "execution_count": 16,
   "id": "16cf02c9-d7a8-4dce-b8bf-bb70a599ca4a",
   "metadata": {},
   "outputs": [
    {
     "name": "stdin",
     "output_type": "stream",
     "text": [
      "enter a student id: 123456\n",
      "enter a student name: chandu\n",
      "enter a student age: 21\n",
      "enter a student city: bengaluru\n",
      "enter a student phone: 1234567890\n"
     ]
    },
    {
     "name": "stdout",
     "output_type": "stream",
     "text": [
      "\n",
      "---student Details---\n",
      "iD : 123456\n",
      "name : chandu\n",
      "age : 21\n",
      "city : bengaluru\n",
      "phone : 1234567890\n"
     ]
    }
   ],
   "source": [
    "student_id = input(\"enter a student id:\")\n",
    "student_name = input(\"enter a student name:\")\n",
    "student_age = input(\"enter a student age:\")\n",
    "student_city = input(\"enter a student city:\")\n",
    "student_phone = input(\"enter a student phone:\")\n",
    "print(\"\\n---student Details---\")\n",
    "print(\"iD :\", student_id)\n",
    "print(\"name :\", student_name)\n",
    "print(\"age :\", student_age)\n",
    "print(\"city :\", student_city)\n",
    "print(\"phone :\", student_phone)"
   ]
  },
  {
   "cell_type": "code",
   "execution_count": 29,
   "id": "3ebbe7cc-bad3-4e47-8a3f-cb88a09d98fa",
   "metadata": {},
   "outputs": [
    {
     "name": "stdout",
     "output_type": "stream",
     "text": [
      "enter marks for 5 subjects(out of 100):\n"
     ]
    },
    {
     "name": "stdin",
     "output_type": "stream",
     "text": [
      "subject[i]marks: 88\n",
      "subject[i]marks: 89\n",
      "subject[i]marks: 90\n",
      "subject[i]marks: 91\n",
      "subject[i]marks: 93\n"
     ]
    },
    {
     "name": "stdout",
     "output_type": "stream",
     "text": [
      "\n",
      "---Result---\n",
      "total marks: 451.0\n",
      "average: 90.2\n",
      "grade: A+\n"
     ]
    }
   ],
   "source": [
    "print(\"enter marks for 5 subjects(out of 100):\")\n",
    "marks = []\n",
    "for i in range(1,6):\n",
    "    mark=float(input(f\"subject[i]marks:\"))\n",
    "    marks.append(mark)\n",
    "#calculate total and average\n",
    "total = sum(marks)\n",
    "#Determine grade\n",
    "average = total/ 5\n",
    "\n",
    "if average >= 90:\n",
    "    grade= 'A+'\n",
    "elif average >= 80 and average <= 90:\n",
    "    grade= 'A'\n",
    "elif average >= 70 and average >= 80:\n",
    "    grade= 'B'\n",
    "elif average >= 60 and average <=70:\n",
    "    grade= 'C'\n",
    "elif average >=50 and average <= 60:\n",
    "    grade= 'F'\n",
    "    \n",
    "print(\"\\n---Result---\")\n",
    "print(\"total marks:\",total)\n",
    "print(\"average:\",average)\n",
    "print(\"grade:\",grade)"
   ]
  },
  {
   "cell_type": "code",
   "execution_count": null,
   "id": "b8e74eb8-3b3c-47e7-94a4-562b63dd5d27",
   "metadata": {},
   "outputs": [],
   "source": []
  }
 ],
 "metadata": {
  "kernelspec": {
   "display_name": "Python 3 (ipykernel)",
   "language": "python",
   "name": "python3"
  },
  "language_info": {
   "codemirror_mode": {
    "name": "ipython",
    "version": 3
   },
   "file_extension": ".py",
   "mimetype": "text/x-python",
   "name": "python",
   "nbconvert_exporter": "python",
   "pygments_lexer": "ipython3",
   "version": "3.12.4"
  }
 },
 "nbformat": 4,
 "nbformat_minor": 5
}
